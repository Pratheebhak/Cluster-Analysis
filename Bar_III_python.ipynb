{
  "nbformat": 4,
  "nbformat_minor": 0,
  "metadata": {
    "colab": {
      "name": "Bar III_python.ipynb",
      "provenance": [],
      "toc_visible": true
    },
    "kernelspec": {
      "name": "python3",
      "display_name": "Python 3"
    }
  },
  "cells": [
    {
      "cell_type": "markdown",
      "metadata": {
        "id": "f1-JwUoM78C9"
      },
      "source": [
        "### Macy's Data Challenge November 2020\n",
        "\n",
        "#### **Business Context**:\n",
        "To enable better demand forecasting, our team creates “seasonal profiles” for our products. Seasonal profiles can be thought of as a way to model fluctuations in demand across the year. For example, swimwear sales take place mostly in the summer months, and therefore a seasonal profile for swimwear should peak mid-year. There are multiple strategies to create seasonal profiles, and your task in this problem is to evaluate a few seasonal profiles created by different strategies (based on 2018 data), and see which ones perform best on a validation set (2019 data). The following prompts will guide you through the evaluation process. You will need to repeat the evaluation process for all three given strategies.\n",
        "\n",
        "#### **Instructions**:\n",
        "\n",
        "There are 4 data files for this python question, one is sales data in 2019, and another three are pre-made seasonal profiles based on 2018 data using different strategies. Please complete this exercise in a Jupyter notebook (please make a note if not using Python 3). Create a section corresponding to each of the 1-8 numbered prompts below, and a section to answer the questions in the QUESTIONS section. Similar to the SQL questions, save your jupyter notebook as {code_name}_python.ipynb (e.g. CharterClub_python.ipynb). Do not indicate your name in the file body – remember, if you load data from a filepath your name is often included, so please try to scrub the notebook."
      ]
    },
    {
      "cell_type": "code",
      "metadata": {
        "id": "i_EURH1T5oxm"
      },
      "source": [
        "import numpy\n",
        "import pandas as pd\n",
        "import matplotlib\n",
        "%matplotlib inline\n"
      ],
      "execution_count": 21,
      "outputs": []
    },
    {
      "cell_type": "code",
      "metadata": {
        "id": "pD3EBKxC-Gwy"
      },
      "source": [
        "pd.set_option('display.max_columns', None)"
      ],
      "execution_count": 7,
      "outputs": []
    },
    {
      "cell_type": "markdown",
      "metadata": {
        "id": "muXg_Mxm9OwK"
      },
      "source": [
        "### 1) Load data from 'sales_data_2019.csv' file\n",
        "\n",
        "Features: \n",
        "* product_id: product_0 - product_3\n",
        "* class: 1 or 2\n",
        "* location: 0-9\n",
        "* climate: COOL or WARM\n",
        "* week: wk_01 - wk_52\n",
        "* sales_units:"
      ]
    },
    {
      "cell_type": "code",
      "metadata": {
        "id": "XWlL1zWY9OBT"
      },
      "source": [
        "df_validation = pd.read_csv(\"./sales_data_2019.csv\")"
      ],
      "execution_count": 13,
      "outputs": []
    },
    {
      "cell_type": "code",
      "metadata": {
        "colab": {
          "base_uri": "https://localhost:8080/",
          "height": 204
        },
        "id": "a1gnwsHg9pCj",
        "outputId": "9cd798ad-fd51-460d-ff26-408f6f6ca1ba"
      },
      "source": [
        "df_validation.head()"
      ],
      "execution_count": 16,
      "outputs": [
        {
          "output_type": "execute_result",
          "data": {
            "text/html": [
              "<div>\n",
              "<style scoped>\n",
              "    .dataframe tbody tr th:only-of-type {\n",
              "        vertical-align: middle;\n",
              "    }\n",
              "\n",
              "    .dataframe tbody tr th {\n",
              "        vertical-align: top;\n",
              "    }\n",
              "\n",
              "    .dataframe thead th {\n",
              "        text-align: right;\n",
              "    }\n",
              "</style>\n",
              "<table border=\"1\" class=\"dataframe\">\n",
              "  <thead>\n",
              "    <tr style=\"text-align: right;\">\n",
              "      <th></th>\n",
              "      <th>product_id</th>\n",
              "      <th>class</th>\n",
              "      <th>location</th>\n",
              "      <th>climate</th>\n",
              "      <th>week</th>\n",
              "      <th>sales_units</th>\n",
              "    </tr>\n",
              "  </thead>\n",
              "  <tbody>\n",
              "    <tr>\n",
              "      <th>0</th>\n",
              "      <td>product_0</td>\n",
              "      <td>1</td>\n",
              "      <td>0</td>\n",
              "      <td>WARM</td>\n",
              "      <td>wk_01</td>\n",
              "      <td>104</td>\n",
              "    </tr>\n",
              "    <tr>\n",
              "      <th>1</th>\n",
              "      <td>product_0</td>\n",
              "      <td>1</td>\n",
              "      <td>0</td>\n",
              "      <td>WARM</td>\n",
              "      <td>wk_02</td>\n",
              "      <td>111</td>\n",
              "    </tr>\n",
              "    <tr>\n",
              "      <th>2</th>\n",
              "      <td>product_0</td>\n",
              "      <td>1</td>\n",
              "      <td>0</td>\n",
              "      <td>WARM</td>\n",
              "      <td>wk_03</td>\n",
              "      <td>116</td>\n",
              "    </tr>\n",
              "    <tr>\n",
              "      <th>3</th>\n",
              "      <td>product_0</td>\n",
              "      <td>1</td>\n",
              "      <td>0</td>\n",
              "      <td>WARM</td>\n",
              "      <td>wk_04</td>\n",
              "      <td>68</td>\n",
              "    </tr>\n",
              "    <tr>\n",
              "      <th>4</th>\n",
              "      <td>product_0</td>\n",
              "      <td>1</td>\n",
              "      <td>0</td>\n",
              "      <td>WARM</td>\n",
              "      <td>wk_05</td>\n",
              "      <td>79</td>\n",
              "    </tr>\n",
              "  </tbody>\n",
              "</table>\n",
              "</div>"
            ],
            "text/plain": [
              "  product_id  class  location climate   week  sales_units\n",
              "0  product_0  1      0         WARM    wk_01  104        \n",
              "1  product_0  1      0         WARM    wk_02  111        \n",
              "2  product_0  1      0         WARM    wk_03  116        \n",
              "3  product_0  1      0         WARM    wk_04  68         \n",
              "4  product_0  1      0         WARM    wk_05  79         "
            ]
          },
          "metadata": {
            "tags": []
          },
          "execution_count": 16
        }
      ]
    },
    {
      "cell_type": "code",
      "metadata": {
        "colab": {
          "base_uri": "https://localhost:8080/"
        },
        "id": "sAm7lW829qz8",
        "outputId": "35a4f376-db48-4bb8-ec24-647a56059995"
      },
      "source": [
        "df_validation.shape"
      ],
      "execution_count": 17,
      "outputs": [
        {
          "output_type": "execute_result",
          "data": {
            "text/plain": [
              "(2080, 6)"
            ]
          },
          "metadata": {
            "tags": []
          },
          "execution_count": 17
        }
      ]
    },
    {
      "cell_type": "code",
      "metadata": {
        "colab": {
          "base_uri": "https://localhost:8080/"
        },
        "id": "XdhSjRCw-oVm",
        "outputId": "910680bf-3b08-4eb6-e22b-6b95729d2e79"
      },
      "source": [
        "# Check for null values\n",
        "df_validation.isnull().sum()"
      ],
      "execution_count": 18,
      "outputs": [
        {
          "output_type": "execute_result",
          "data": {
            "text/plain": [
              "product_id     0\n",
              "class          0\n",
              "location       0\n",
              "climate        0\n",
              "week           0\n",
              "sales_units    0\n",
              "dtype: int64"
            ]
          },
          "metadata": {
            "tags": []
          },
          "execution_count": 18
        }
      ]
    },
    {
      "cell_type": "code",
      "metadata": {
        "colab": {
          "base_uri": "https://localhost:8080/",
          "height": 297
        },
        "id": "-NvHkpoT_fdn",
        "outputId": "e4e8a8e7-0d98-4fc3-b4ea-a622571303e1"
      },
      "source": [
        "df_validation.describe()"
      ],
      "execution_count": 19,
      "outputs": [
        {
          "output_type": "execute_result",
          "data": {
            "text/html": [
              "<div>\n",
              "<style scoped>\n",
              "    .dataframe tbody tr th:only-of-type {\n",
              "        vertical-align: middle;\n",
              "    }\n",
              "\n",
              "    .dataframe tbody tr th {\n",
              "        vertical-align: top;\n",
              "    }\n",
              "\n",
              "    .dataframe thead th {\n",
              "        text-align: right;\n",
              "    }\n",
              "</style>\n",
              "<table border=\"1\" class=\"dataframe\">\n",
              "  <thead>\n",
              "    <tr style=\"text-align: right;\">\n",
              "      <th></th>\n",
              "      <th>class</th>\n",
              "      <th>location</th>\n",
              "      <th>sales_units</th>\n",
              "    </tr>\n",
              "  </thead>\n",
              "  <tbody>\n",
              "    <tr>\n",
              "      <th>count</th>\n",
              "      <td>2080.00000</td>\n",
              "      <td>2080.000000</td>\n",
              "      <td>2080.000000</td>\n",
              "    </tr>\n",
              "    <tr>\n",
              "      <th>mean</th>\n",
              "      <td>1.50000</td>\n",
              "      <td>4.500000</td>\n",
              "      <td>90.015385</td>\n",
              "    </tr>\n",
              "    <tr>\n",
              "      <th>std</th>\n",
              "      <td>0.50012</td>\n",
              "      <td>2.872972</td>\n",
              "      <td>69.384768</td>\n",
              "    </tr>\n",
              "    <tr>\n",
              "      <th>min</th>\n",
              "      <td>1.00000</td>\n",
              "      <td>0.000000</td>\n",
              "      <td>1.000000</td>\n",
              "    </tr>\n",
              "    <tr>\n",
              "      <th>25%</th>\n",
              "      <td>1.00000</td>\n",
              "      <td>2.000000</td>\n",
              "      <td>34.000000</td>\n",
              "    </tr>\n",
              "    <tr>\n",
              "      <th>50%</th>\n",
              "      <td>1.50000</td>\n",
              "      <td>4.500000</td>\n",
              "      <td>70.000000</td>\n",
              "    </tr>\n",
              "    <tr>\n",
              "      <th>75%</th>\n",
              "      <td>2.00000</td>\n",
              "      <td>7.000000</td>\n",
              "      <td>131.250000</td>\n",
              "    </tr>\n",
              "    <tr>\n",
              "      <th>max</th>\n",
              "      <td>2.00000</td>\n",
              "      <td>9.000000</td>\n",
              "      <td>385.000000</td>\n",
              "    </tr>\n",
              "  </tbody>\n",
              "</table>\n",
              "</div>"
            ],
            "text/plain": [
              "            class     location  sales_units\n",
              "count  2080.00000  2080.000000  2080.000000\n",
              "mean   1.50000     4.500000     90.015385  \n",
              "std    0.50012     2.872972     69.384768  \n",
              "min    1.00000     0.000000     1.000000   \n",
              "25%    1.00000     2.000000     34.000000  \n",
              "50%    1.50000     4.500000     70.000000  \n",
              "75%    2.00000     7.000000     131.250000 \n",
              "max    2.00000     9.000000     385.000000 "
            ]
          },
          "metadata": {
            "tags": []
          },
          "execution_count": 19
        }
      ]
    },
    {
      "cell_type": "code",
      "metadata": {
        "colab": {
          "base_uri": "https://localhost:8080/"
        },
        "id": "JiQJMkAP_hYP",
        "outputId": "c9ece73e-1ad1-4d08-f55a-884c0875bbc6"
      },
      "source": [
        "df_validation.info()"
      ],
      "execution_count": 20,
      "outputs": [
        {
          "output_type": "stream",
          "text": [
            "<class 'pandas.core.frame.DataFrame'>\n",
            "RangeIndex: 2080 entries, 0 to 2079\n",
            "Data columns (total 6 columns):\n",
            " #   Column       Non-Null Count  Dtype \n",
            "---  ------       --------------  ----- \n",
            " 0   product_id   2080 non-null   object\n",
            " 1   class        2080 non-null   int64 \n",
            " 2   location     2080 non-null   int64 \n",
            " 3   climate      2080 non-null   object\n",
            " 4   week         2080 non-null   object\n",
            " 5   sales_units  2080 non-null   int64 \n",
            "dtypes: int64(3), object(3)\n",
            "memory usage: 97.6+ KB\n"
          ],
          "name": "stdout"
        }
      ]
    },
    {
      "cell_type": "code",
      "metadata": {
        "colab": {
          "base_uri": "https://localhost:8080/",
          "height": 312
        },
        "id": "E4uoLRkGAMQr",
        "outputId": "6c543037-6ac4-4a5a-d302-398d7e2f6bd7"
      },
      "source": [
        "df_validation.plot('week','sales_units',grid=True,figsize=(20,5))"
      ],
      "execution_count": 31,
      "outputs": [
        {
          "output_type": "execute_result",
          "data": {
            "text/plain": [
              "<matplotlib.axes._subplots.AxesSubplot at 0x7fafacb69518>"
            ]
          },
          "metadata": {
            "tags": []
          },
          "execution_count": 31
        },
        {
          "output_type": "display_data",
          "data": {
            "image/png": "[encoded data removed]",
            "text/plain": [
              "<Figure size 1440x360 with 1 Axes>"
            ]
          },
          "metadata": {
            "tags": [],
            "needs_background": "light"
          }
        }
      ]
    },
    {
      "cell_type": "markdown",
      "metadata": {
        "id": "g-ehc7vQBRWJ"
      },
      "source": [
        "###2) Load the pre-made seasonal profiles"
      ]
    },
    {
      "cell_type": "code",
      "metadata": {
        "id": "4_JA6RXNAZt0"
      },
      "source": [
        "sp_prod_loc = pd.read_csv(\"./sp_prod_loc.csv\")"
      ],
      "execution_count": 32,
      "outputs": []
    },
    {
      "cell_type": "code",
      "metadata": {
        "id": "2rCNMwCqBw4F"
      },
      "source": [
        "sp_prod_clim = pd.read_csv(\"./sp_prod_clim.csv\")"
      ],
      "execution_count": 33,
      "outputs": []
    },
    {
      "cell_type": "code",
      "metadata": {
        "id": "Lo0kfLTsB49j"
      },
      "source": [
        "sp_class_clim = pd.read_csv(\"./sp_class_clim.csv\")"
      ],
      "execution_count": 34,
      "outputs": []
    },
    {
      "cell_type": "code",
      "metadata": {
        "colab": {
          "base_uri": "https://localhost:8080/"
        },
        "id": "Xsf3pgxNB-6S",
        "outputId": "ffc52bef-b867-4d7b-b476-1355ea1950fd"
      },
      "source": [
        "print(sp_prod_loc.head())\n",
        "print(sp_prod_loc.shape)"
      ],
      "execution_count": 35,
      "outputs": [
        {
          "output_type": "stream",
          "text": [
            "  seasonal_profile_id product_id  location  class   week  seasonality_value\n",
            "0  ProdLoc1            product_0  0         1      wk_01  0.727476         \n",
            "1  ProdLoc1            product_0  0         1      wk_02  0.960269         \n",
            "2  ProdLoc1            product_0  0         1      wk_03  0.843872         \n",
            "3  ProdLoc1            product_0  0         1      wk_04  1.474352         \n",
            "4  ProdLoc1            product_0  0         1      wk_05  0.339489         \n",
            "(2080, 6)\n"
          ],
          "name": "stdout"
        }
      ]
    },
    {
      "cell_type": "code",
      "metadata": {
        "colab": {
          "base_uri": "https://localhost:8080/"
        },
        "id": "2nCFErnQCH2-",
        "outputId": "75bc8948-b87b-4b14-f7bc-1308db188a33"
      },
      "source": [
        "print(sp_prod_clim.head())\n",
        "print(sp_prod_clim.shape)"
      ],
      "execution_count": 36,
      "outputs": [
        {
          "output_type": "stream",
          "text": [
            "  seasonal_profile_id product_id climate  class  location   week  \\\n",
            "0  ProdClim1           product_0  COOL    1      7         wk_01   \n",
            "1  ProdClim1           product_0  COOL    1      7         wk_02   \n",
            "2  ProdClim1           product_0  COOL    1      7         wk_03   \n",
            "3  ProdClim1           product_0  COOL    1      7         wk_04   \n",
            "4  ProdClim1           product_0  COOL    1      7         wk_05   \n",
            "\n",
            "   seasonality_value  \n",
            "0  0.467086           \n",
            "1  0.514818           \n",
            "2  0.644375           \n",
            "3  0.548912           \n",
            "4  0.415945           \n",
            "(416, 7)\n"
          ],
          "name": "stdout"
        }
      ]
    },
    {
      "cell_type": "code",
      "metadata": {
        "colab": {
          "base_uri": "https://localhost:8080/"
        },
        "id": "9TZFVeN5CQFp",
        "outputId": "cdf3df2b-5866-4186-d6b0-92f47b99452a"
      },
      "source": [
        "print(sp_class_clim.head())\n",
        "print(sp_class_clim.shape)"
      ],
      "execution_count": 37,
      "outputs": [
        {
          "output_type": "stream",
          "text": [
            "  seasonal_profile_id  class climate  location   week  seasonality_value\n",
            "0  ClassClim1          1      COOL    7         wk_01  0.523652         \n",
            "1  ClassClim1          1      COOL    7         wk_02  0.478866         \n",
            "2  ClassClim1          1      COOL    7         wk_03  0.594276         \n",
            "3  ClassClim1          1      COOL    7         wk_04  0.504704         \n",
            "4  ClassClim1          1      COOL    7         wk_05  0.454750         \n",
            "(208, 6)\n"
          ],
          "name": "stdout"
        }
      ]
    },
    {
      "cell_type": "markdown",
      "metadata": {
        "id": "92xMgnGMCjrb"
      },
      "source": [
        "### 3) Calculate **'average weekly sales units'** for each product_id and location combo"
      ]
    },
    {
      "cell_type": "code",
      "metadata": {
        "colab": {
          "base_uri": "https://localhost:8080/",
          "height": 235
        },
        "id": "kvmJha6nCWZu",
        "outputId": "247a0730-fdc1-4169-8d57-0e70e26b207e"
      },
      "source": [
        "product_location = df_validation.groupby(['product_id','location']).agg({'sales_units':'sum'})\n",
        "product_location.head()"
      ],
      "execution_count": 66,
      "outputs": [
        {
          "output_type": "execute_result",
          "data": {
            "text/html": [
              "<div>\n",
              "<style scoped>\n",
              "    .dataframe tbody tr th:only-of-type {\n",
              "        vertical-align: middle;\n",
              "    }\n",
              "\n",
              "    .dataframe tbody tr th {\n",
              "        vertical-align: top;\n",
              "    }\n",
              "\n",
              "    .dataframe thead th {\n",
              "        text-align: right;\n",
              "    }\n",
              "</style>\n",
              "<table border=\"1\" class=\"dataframe\">\n",
              "  <thead>\n",
              "    <tr style=\"text-align: right;\">\n",
              "      <th></th>\n",
              "      <th></th>\n",
              "      <th>sales_units</th>\n",
              "    </tr>\n",
              "    <tr>\n",
              "      <th>product_id</th>\n",
              "      <th>location</th>\n",
              "      <th></th>\n",
              "    </tr>\n",
              "  </thead>\n",
              "  <tbody>\n",
              "    <tr>\n",
              "      <th rowspan=\"5\" valign=\"top\">product_0</th>\n",
              "      <th>0</th>\n",
              "      <td>5699</td>\n",
              "    </tr>\n",
              "    <tr>\n",
              "      <th>1</th>\n",
              "      <td>10430</td>\n",
              "    </tr>\n",
              "    <tr>\n",
              "      <th>2</th>\n",
              "      <td>1560</td>\n",
              "    </tr>\n",
              "    <tr>\n",
              "      <th>3</th>\n",
              "      <td>6032</td>\n",
              "    </tr>\n",
              "    <tr>\n",
              "      <th>4</th>\n",
              "      <td>7675</td>\n",
              "    </tr>\n",
              "  </tbody>\n",
              "</table>\n",
              "</div>"
            ],
            "text/plain": [
              "                     sales_units\n",
              "product_id location             \n",
              "product_0  0         5699       \n",
              "           1         10430      \n",
              "           2         1560       \n",
              "           3         6032       \n",
              "           4         7675       "
            ]
          },
          "metadata": {
            "tags": []
          },
          "execution_count": 66
        }
      ]
    },
    {
      "cell_type": "code",
      "metadata": {
        "colab": {
          "base_uri": "https://localhost:8080/"
        },
        "id": "LWULChWOEQGB",
        "outputId": "ac0bc496-29d4-464b-9d48-296c94246a9d"
      },
      "source": [
        "avg_weekly_sales_units = product_location['sales_units'].div(52)\n",
        "avg_weekly_sales_units.head()"
      ],
      "execution_count": 67,
      "outputs": [
        {
          "output_type": "execute_result",
          "data": {
            "text/plain": [
              "product_id  location\n",
              "product_0   0           109.596154\n",
              "            1           200.576923\n",
              "            2           30.000000 \n",
              "            3           116.000000\n",
              "            4           147.596154\n",
              "Name: sales_units, dtype: float64"
            ]
          },
          "metadata": {
            "tags": []
          },
          "execution_count": 67
        }
      ]
    },
    {
      "cell_type": "code",
      "metadata": {
        "colab": {
          "base_uri": "https://localhost:8080/",
          "height": 204
        },
        "id": "QVOCdxZ9FFG_",
        "outputId": "7a158e07-612f-4a05-93f2-a48f1ed7efab"
      },
      "source": [
        "df_validation = df_validation.merge(avg_weekly_sales_units, on=['product_id','location'])\n",
        "df_validation.head()"
      ],
      "execution_count": 73,
      "outputs": [
        {
          "output_type": "execute_result",
          "data": {
            "text/html": [
              "<div>\n",
              "<style scoped>\n",
              "    .dataframe tbody tr th:only-of-type {\n",
              "        vertical-align: middle;\n",
              "    }\n",
              "\n",
              "    .dataframe tbody tr th {\n",
              "        vertical-align: top;\n",
              "    }\n",
              "\n",
              "    .dataframe thead th {\n",
              "        text-align: right;\n",
              "    }\n",
              "</style>\n",
              "<table border=\"1\" class=\"dataframe\">\n",
              "  <thead>\n",
              "    <tr style=\"text-align: right;\">\n",
              "      <th></th>\n",
              "      <th>product_id</th>\n",
              "      <th>class</th>\n",
              "      <th>location</th>\n",
              "      <th>climate</th>\n",
              "      <th>week</th>\n",
              "      <th>sales_units_x</th>\n",
              "      <th>sales_units_y</th>\n",
              "      <th>sales_units</th>\n",
              "    </tr>\n",
              "  </thead>\n",
              "  <tbody>\n",
              "    <tr>\n",
              "      <th>0</th>\n",
              "      <td>product_0</td>\n",
              "      <td>1</td>\n",
              "      <td>0</td>\n",
              "      <td>WARM</td>\n",
              "      <td>wk_01</td>\n",
              "      <td>104</td>\n",
              "      <td>109.596154</td>\n",
              "      <td>109.596154</td>\n",
              "    </tr>\n",
              "    <tr>\n",
              "      <th>1</th>\n",
              "      <td>product_0</td>\n",
              "      <td>1</td>\n",
              "      <td>0</td>\n",
              "      <td>WARM</td>\n",
              "      <td>wk_02</td>\n",
              "      <td>111</td>\n",
              "      <td>109.596154</td>\n",
              "      <td>109.596154</td>\n",
              "    </tr>\n",
              "    <tr>\n",
              "      <th>2</th>\n",
              "      <td>product_0</td>\n",
              "      <td>1</td>\n",
              "      <td>0</td>\n",
              "      <td>WARM</td>\n",
              "      <td>wk_03</td>\n",
              "      <td>116</td>\n",
              "      <td>109.596154</td>\n",
              "      <td>109.596154</td>\n",
              "    </tr>\n",
              "    <tr>\n",
              "      <th>3</th>\n",
              "      <td>product_0</td>\n",
              "      <td>1</td>\n",
              "      <td>0</td>\n",
              "      <td>WARM</td>\n",
              "      <td>wk_04</td>\n",
              "      <td>68</td>\n",
              "      <td>109.596154</td>\n",
              "      <td>109.596154</td>\n",
              "    </tr>\n",
              "    <tr>\n",
              "      <th>4</th>\n",
              "      <td>product_0</td>\n",
              "      <td>1</td>\n",
              "      <td>0</td>\n",
              "      <td>WARM</td>\n",
              "      <td>wk_05</td>\n",
              "      <td>79</td>\n",
              "      <td>109.596154</td>\n",
              "      <td>109.596154</td>\n",
              "    </tr>\n",
              "  </tbody>\n",
              "</table>\n",
              "</div>"
            ],
            "text/plain": [
              "  product_id  class  location climate   week  sales_units_x  sales_units_y  \\\n",
              "0  product_0  1      0         WARM    wk_01  104            109.596154      \n",
              "1  product_0  1      0         WARM    wk_02  111            109.596154      \n",
              "2  product_0  1      0         WARM    wk_03  116            109.596154      \n",
              "3  product_0  1      0         WARM    wk_04  68             109.596154      \n",
              "4  product_0  1      0         WARM    wk_05  79             109.596154      \n",
              "\n",
              "   sales_units  \n",
              "0  109.596154   \n",
              "1  109.596154   \n",
              "2  109.596154   \n",
              "3  109.596154   \n",
              "4  109.596154   "
            ]
          },
          "metadata": {
            "tags": []
          },
          "execution_count": 73
        }
      ]
    },
    {
      "cell_type": "code",
      "metadata": {
        "colab": {
          "base_uri": "https://localhost:8080/",
          "height": 599
        },
        "id": "2Lh1eup8GEmr",
        "outputId": "c56a0e21-5fe3-408a-98e5-fd4ffbe2966d"
      },
      "source": [
        "avg_weekly_sales_units.plot(kind='bar', figsize=(20,10))"
      ],
      "execution_count": 69,
      "outputs": [
        {
          "output_type": "execute_result",
          "data": {
            "text/plain": [
              "<matplotlib.axes._subplots.AxesSubplot at 0x7fafab2db0f0>"
            ]
          },
          "metadata": {
            "tags": []
          },
          "execution_count": 69
        },
        {
          "output_type": "display_data",
          "data": {
            "image/png": "[encoded data removed]",
            "text/plain": [
              "<Figure size 1440x720 with 1 Axes>"
            ]
          },
          "metadata": {
            "tags": [],
            "needs_background": "light"
          }
        }
      ]
    },
    {
      "cell_type": "markdown",
      "metadata": {
        "id": "Uhh7WN4eGaxa"
      },
      "source": [
        "## Seasonal Profile Data 1: sp_prod_loc"
      ]
    },
    {
      "cell_type": "markdown",
      "metadata": {
        "id": "cFs0sPq6G5Bh"
      },
      "source": [
        "### 4) Pandas merge seasonal profile and sales data for 2019"
      ]
    },
    {
      "cell_type": "code",
      "metadata": {
        "id": "kPSoHMIJGN0w"
      },
      "source": [
        "merged_profile1 = df_validation.merge(sp_prod_loc, how='inner', left_on=['product_id', 'location'], right_on=['product_id','location'])"
      ],
      "execution_count": 74,
      "outputs": []
    },
    {
      "cell_type": "code",
      "metadata": {
        "colab": {
          "base_uri": "https://localhost:8080/",
          "height": 224
        },
        "id": "44Nv2r73JRHA",
        "outputId": "d0b0bf2f-348e-487a-ec88-b1b79d2e070b"
      },
      "source": [
        "merged_profile1.head()"
      ],
      "execution_count": 75,
      "outputs": [
        {
          "output_type": "execute_result",
          "data": {
            "text/html": [
              "<div>\n",
              "<style scoped>\n",
              "    .dataframe tbody tr th:only-of-type {\n",
              "        vertical-align: middle;\n",
              "    }\n",
              "\n",
              "    .dataframe tbody tr th {\n",
              "        vertical-align: top;\n",
              "    }\n",
              "\n",
              "    .dataframe thead th {\n",
              "        text-align: right;\n",
              "    }\n",
              "</style>\n",
              "<table border=\"1\" class=\"dataframe\">\n",
              "  <thead>\n",
              "    <tr style=\"text-align: right;\">\n",
              "      <th></th>\n",
              "      <th>product_id</th>\n",
              "      <th>class_x</th>\n",
              "      <th>location</th>\n",
              "      <th>climate</th>\n",
              "      <th>week_x</th>\n",
              "      <th>sales_units_x</th>\n",
              "      <th>sales_units_y</th>\n",
              "      <th>sales_units</th>\n",
              "      <th>seasonal_profile_id</th>\n",
              "      <th>class_y</th>\n",
              "      <th>week_y</th>\n",
              "      <th>seasonality_value</th>\n",
              "    </tr>\n",
              "  </thead>\n",
              "  <tbody>\n",
              "    <tr>\n",
              "      <th>0</th>\n",
              "      <td>product_0</td>\n",
              "      <td>1</td>\n",
              "      <td>0</td>\n",
              "      <td>WARM</td>\n",
              "      <td>wk_01</td>\n",
              "      <td>104</td>\n",
              "      <td>109.596154</td>\n",
              "      <td>109.596154</td>\n",
              "      <td>ProdLoc1</td>\n",
              "      <td>1</td>\n",
              "      <td>wk_01</td>\n",
              "      <td>0.727476</td>\n",
              "    </tr>\n",
              "    <tr>\n",
              "      <th>1</th>\n",
              "      <td>product_0</td>\n",
              "      <td>1</td>\n",
              "      <td>0</td>\n",
              "      <td>WARM</td>\n",
              "      <td>wk_01</td>\n",
              "      <td>104</td>\n",
              "      <td>109.596154</td>\n",
              "      <td>109.596154</td>\n",
              "      <td>ProdLoc1</td>\n",
              "      <td>1</td>\n",
              "      <td>wk_02</td>\n",
              "      <td>0.960269</td>\n",
              "    </tr>\n",
              "    <tr>\n",
              "      <th>2</th>\n",
              "      <td>product_0</td>\n",
              "      <td>1</td>\n",
              "      <td>0</td>\n",
              "      <td>WARM</td>\n",
              "      <td>wk_01</td>\n",
              "      <td>104</td>\n",
              "      <td>109.596154</td>\n",
              "      <td>109.596154</td>\n",
              "      <td>ProdLoc1</td>\n",
              "      <td>1</td>\n",
              "      <td>wk_03</td>\n",
              "      <td>0.843872</td>\n",
              "    </tr>\n",
              "    <tr>\n",
              "      <th>3</th>\n",
              "      <td>product_0</td>\n",
              "      <td>1</td>\n",
              "      <td>0</td>\n",
              "      <td>WARM</td>\n",
              "      <td>wk_01</td>\n",
              "      <td>104</td>\n",
              "      <td>109.596154</td>\n",
              "      <td>109.596154</td>\n",
              "      <td>ProdLoc1</td>\n",
              "      <td>1</td>\n",
              "      <td>wk_04</td>\n",
              "      <td>1.474352</td>\n",
              "    </tr>\n",
              "    <tr>\n",
              "      <th>4</th>\n",
              "      <td>product_0</td>\n",
              "      <td>1</td>\n",
              "      <td>0</td>\n",
              "      <td>WARM</td>\n",
              "      <td>wk_01</td>\n",
              "      <td>104</td>\n",
              "      <td>109.596154</td>\n",
              "      <td>109.596154</td>\n",
              "      <td>ProdLoc1</td>\n",
              "      <td>1</td>\n",
              "      <td>wk_05</td>\n",
              "      <td>0.339489</td>\n",
              "    </tr>\n",
              "  </tbody>\n",
              "</table>\n",
              "</div>"
            ],
            "text/plain": [
              "  product_id  class_x  location climate week_x  sales_units_x  sales_units_y  \\\n",
              "0  product_0  1        0         WARM    wk_01  104            109.596154      \n",
              "1  product_0  1        0         WARM    wk_01  104            109.596154      \n",
              "2  product_0  1        0         WARM    wk_01  104            109.596154      \n",
              "3  product_0  1        0         WARM    wk_01  104            109.596154      \n",
              "4  product_0  1        0         WARM    wk_01  104            109.596154      \n",
              "\n",
              "   sales_units seasonal_profile_id  class_y week_y  seasonality_value  \n",
              "0  109.596154   ProdLoc1            1        wk_01  0.727476           \n",
              "1  109.596154   ProdLoc1            1        wk_02  0.960269           \n",
              "2  109.596154   ProdLoc1            1        wk_03  0.843872           \n",
              "3  109.596154   ProdLoc1            1        wk_04  1.474352           \n",
              "4  109.596154   ProdLoc1            1        wk_05  0.339489           "
            ]
          },
          "metadata": {
            "tags": []
          },
          "execution_count": 75
        }
      ]
    },
    {
      "cell_type": "markdown",
      "metadata": {
        "id": "ARvBF8bXMBrw"
      },
      "source": [
        "### 5) Calculate demand forecast for every product id and location combo\n"
      ]
    },
    {
      "cell_type": "code",
      "metadata": {
        "id": "BXP2mPMXJZho"
      },
      "source": [
        "merged_profile1['forecasted_sales'] = merged_profile1['sales_units'] * merged_profile1['seasonality_value']"
      ],
      "execution_count": 78,
      "outputs": []
    },
    {
      "cell_type": "markdown",
      "metadata": {
        "id": "T4UgDCQ1SF4m"
      },
      "source": [
        "###6) Values for every week "
      ]
    },
    {
      "cell_type": "code",
      "metadata": {
        "colab": {
          "base_uri": "https://localhost:8080/",
          "height": 224
        },
        "id": "OAEtbLd1Maov",
        "outputId": "4a6e8971-2aa0-4cd8-e01c-2bad35d63d2c"
      },
      "source": [
        "merged_profile1.head()"
      ],
      "execution_count": 80,
      "outputs": [
        {
          "output_type": "execute_result",
          "data": {
            "text/html": [
              "<div>\n",
              "<style scoped>\n",
              "    .dataframe tbody tr th:only-of-type {\n",
              "        vertical-align: middle;\n",
              "    }\n",
              "\n",
              "    .dataframe tbody tr th {\n",
              "        vertical-align: top;\n",
              "    }\n",
              "\n",
              "    .dataframe thead th {\n",
              "        text-align: right;\n",
              "    }\n",
              "</style>\n",
              "<table border=\"1\" class=\"dataframe\">\n",
              "  <thead>\n",
              "    <tr style=\"text-align: right;\">\n",
              "      <th></th>\n",
              "      <th>product_id</th>\n",
              "      <th>class_x</th>\n",
              "      <th>location</th>\n",
              "      <th>climate</th>\n",
              "      <th>week_x</th>\n",
              "      <th>sales_units_x</th>\n",
              "      <th>sales_units_y</th>\n",
              "      <th>sales_units</th>\n",
              "      <th>seasonal_profile_id</th>\n",
              "      <th>class_y</th>\n",
              "      <th>week_y</th>\n",
              "      <th>seasonality_value</th>\n",
              "      <th>forecasted_sales</th>\n",
              "    </tr>\n",
              "  </thead>\n",
              "  <tbody>\n",
              "    <tr>\n",
              "      <th>0</th>\n",
              "      <td>product_0</td>\n",
              "      <td>1</td>\n",
              "      <td>0</td>\n",
              "      <td>WARM</td>\n",
              "      <td>wk_01</td>\n",
              "      <td>104</td>\n",
              "      <td>109.596154</td>\n",
              "      <td>109.596154</td>\n",
              "      <td>ProdLoc1</td>\n",
              "      <td>1</td>\n",
              "      <td>wk_01</td>\n",
              "      <td>0.727476</td>\n",
              "      <td>79.728595</td>\n",
              "    </tr>\n",
              "    <tr>\n",
              "      <th>1</th>\n",
              "      <td>product_0</td>\n",
              "      <td>1</td>\n",
              "      <td>0</td>\n",
              "      <td>WARM</td>\n",
              "      <td>wk_01</td>\n",
              "      <td>104</td>\n",
              "      <td>109.596154</td>\n",
              "      <td>109.596154</td>\n",
              "      <td>ProdLoc1</td>\n",
              "      <td>1</td>\n",
              "      <td>wk_02</td>\n",
              "      <td>0.960269</td>\n",
              "      <td>105.241746</td>\n",
              "    </tr>\n",
              "    <tr>\n",
              "      <th>2</th>\n",
              "      <td>product_0</td>\n",
              "      <td>1</td>\n",
              "      <td>0</td>\n",
              "      <td>WARM</td>\n",
              "      <td>wk_01</td>\n",
              "      <td>104</td>\n",
              "      <td>109.596154</td>\n",
              "      <td>109.596154</td>\n",
              "      <td>ProdLoc1</td>\n",
              "      <td>1</td>\n",
              "      <td>wk_03</td>\n",
              "      <td>0.843872</td>\n",
              "      <td>92.485171</td>\n",
              "    </tr>\n",
              "    <tr>\n",
              "      <th>3</th>\n",
              "      <td>product_0</td>\n",
              "      <td>1</td>\n",
              "      <td>0</td>\n",
              "      <td>WARM</td>\n",
              "      <td>wk_01</td>\n",
              "      <td>104</td>\n",
              "      <td>109.596154</td>\n",
              "      <td>109.596154</td>\n",
              "      <td>ProdLoc1</td>\n",
              "      <td>1</td>\n",
              "      <td>wk_04</td>\n",
              "      <td>1.474352</td>\n",
              "      <td>161.583287</td>\n",
              "    </tr>\n",
              "    <tr>\n",
              "      <th>4</th>\n",
              "      <td>product_0</td>\n",
              "      <td>1</td>\n",
              "      <td>0</td>\n",
              "      <td>WARM</td>\n",
              "      <td>wk_01</td>\n",
              "      <td>104</td>\n",
              "      <td>109.596154</td>\n",
              "      <td>109.596154</td>\n",
              "      <td>ProdLoc1</td>\n",
              "      <td>1</td>\n",
              "      <td>wk_05</td>\n",
              "      <td>0.339489</td>\n",
              "      <td>37.206678</td>\n",
              "    </tr>\n",
              "  </tbody>\n",
              "</table>\n",
              "</div>"
            ],
            "text/plain": [
              "  product_id  class_x  location climate week_x  sales_units_x  sales_units_y  \\\n",
              "0  product_0  1        0         WARM    wk_01  104            109.596154      \n",
              "1  product_0  1        0         WARM    wk_01  104            109.596154      \n",
              "2  product_0  1        0         WARM    wk_01  104            109.596154      \n",
              "3  product_0  1        0         WARM    wk_01  104            109.596154      \n",
              "4  product_0  1        0         WARM    wk_01  104            109.596154      \n",
              "\n",
              "   sales_units seasonal_profile_id  class_y week_y  seasonality_value  \\\n",
              "0  109.596154   ProdLoc1            1        wk_01  0.727476            \n",
              "1  109.596154   ProdLoc1            1        wk_02  0.960269            \n",
              "2  109.596154   ProdLoc1            1        wk_03  0.843872            \n",
              "3  109.596154   ProdLoc1            1        wk_04  1.474352            \n",
              "4  109.596154   ProdLoc1            1        wk_05  0.339489            \n",
              "\n",
              "   forecasted_sales  \n",
              "0  79.728595         \n",
              "1  105.241746        \n",
              "2  92.485171         \n",
              "3  161.583287        \n",
              "4  37.206678         "
            ]
          },
          "metadata": {
            "tags": []
          },
          "execution_count": 80
        }
      ]
    },
    {
      "cell_type": "markdown",
      "metadata": {
        "id": "4d4WR52JSMul"
      },
      "source": [
        "### 7) SMAPE Values"
      ]
    },
    {
      "cell_type": "code",
      "metadata": {
        "id": "gtalHsT0OUa8"
      },
      "source": [
        "smape_profile1 = merged_profile1.groupby(['product_id','location']).agg({'sales_units_x':'sum', 'forecasted_sales':'sum'})"
      ],
      "execution_count": 88,
      "outputs": []
    },
    {
      "cell_type": "code",
      "metadata": {
        "colab": {
          "base_uri": "https://localhost:8080/",
          "height": 235
        },
        "id": "jyueAHmuOxm4",
        "outputId": "c893223f-c6a7-404c-8d09-5dafb7d88f34"
      },
      "source": [
        "smape_profile1.head()"
      ],
      "execution_count": 90,
      "outputs": [
        {
          "output_type": "execute_result",
          "data": {
            "text/html": [
              "<div>\n",
              "<style scoped>\n",
              "    .dataframe tbody tr th:only-of-type {\n",
              "        vertical-align: middle;\n",
              "    }\n",
              "\n",
              "    .dataframe tbody tr th {\n",
              "        vertical-align: top;\n",
              "    }\n",
              "\n",
              "    .dataframe thead th {\n",
              "        text-align: right;\n",
              "    }\n",
              "</style>\n",
              "<table border=\"1\" class=\"dataframe\">\n",
              "  <thead>\n",
              "    <tr style=\"text-align: right;\">\n",
              "      <th></th>\n",
              "      <th></th>\n",
              "      <th>sales_units_x</th>\n",
              "      <th>forecasted_sales</th>\n",
              "    </tr>\n",
              "    <tr>\n",
              "      <th>product_id</th>\n",
              "      <th>location</th>\n",
              "      <th></th>\n",
              "      <th></th>\n",
              "    </tr>\n",
              "  </thead>\n",
              "  <tbody>\n",
              "    <tr>\n",
              "      <th rowspan=\"5\" valign=\"top\">product_0</th>\n",
              "      <th>0</th>\n",
              "      <td>296348</td>\n",
              "      <td>296348.000000</td>\n",
              "    </tr>\n",
              "    <tr>\n",
              "      <th>1</th>\n",
              "      <td>542360</td>\n",
              "      <td>542360.000021</td>\n",
              "    </tr>\n",
              "    <tr>\n",
              "      <th>2</th>\n",
              "      <td>81120</td>\n",
              "      <td>81120.000002</td>\n",
              "    </tr>\n",
              "    <tr>\n",
              "      <th>3</th>\n",
              "      <td>313664</td>\n",
              "      <td>313663.999988</td>\n",
              "    </tr>\n",
              "    <tr>\n",
              "      <th>4</th>\n",
              "      <td>399100</td>\n",
              "      <td>399100.000008</td>\n",
              "    </tr>\n",
              "  </tbody>\n",
              "</table>\n",
              "</div>"
            ],
            "text/plain": [
              "                     sales_units_x  forecasted_sales\n",
              "product_id location                                 \n",
              "product_0  0         296348         296348.000000   \n",
              "           1         542360         542360.000021   \n",
              "           2         81120          81120.000002    \n",
              "           3         313664         313663.999988   \n",
              "           4         399100         399100.000008   "
            ]
          },
          "metadata": {
            "tags": []
          },
          "execution_count": 90
        }
      ]
    },
    {
      "cell_type": "code",
      "metadata": {
        "id": "5-QcehHZP_gs"
      },
      "source": [
        "smape_profile1['smape_value'] = abs(smape_profile1['forecasted_sales'] - smape_profile1['sales_units_x'])/(abs(smape_profile1['sales_units_x']) + abs(smape_profile1['forecasted_sales']))"
      ],
      "execution_count": 91,
      "outputs": []
    },
    {
      "cell_type": "code",
      "metadata": {
        "id": "F95S5YYNQrGJ"
      },
      "source": [
        "smape_profile1['smape_value'] = smape_profile1['smape_value']/52"
      ],
      "execution_count": 99,
      "outputs": []
    },
    {
      "cell_type": "code",
      "metadata": {
        "id": "HsdvhYPQQtbs"
      },
      "source": [
        "smape_profile1 = smape_profile1.sort_values(['smape_value'], ascending=True)"
      ],
      "execution_count": 100,
      "outputs": []
    },
    {
      "cell_type": "code",
      "metadata": {
        "colab": {
          "base_uri": "https://localhost:8080/",
          "height": 235
        },
        "id": "eRvTCNdnRBqS",
        "outputId": "331ecc30-0880-4d46-cc91-5911ac8294ec"
      },
      "source": [
        "smape_profile1.head()"
      ],
      "execution_count": 101,
      "outputs": [
        {
          "output_type": "execute_result",
          "data": {
            "text/html": [
              "<div>\n",
              "<style scoped>\n",
              "    .dataframe tbody tr th:only-of-type {\n",
              "        vertical-align: middle;\n",
              "    }\n",
              "\n",
              "    .dataframe tbody tr th {\n",
              "        vertical-align: top;\n",
              "    }\n",
              "\n",
              "    .dataframe thead th {\n",
              "        text-align: right;\n",
              "    }\n",
              "</style>\n",
              "<table border=\"1\" class=\"dataframe\">\n",
              "  <thead>\n",
              "    <tr style=\"text-align: right;\">\n",
              "      <th></th>\n",
              "      <th></th>\n",
              "      <th>sales_units_x</th>\n",
              "      <th>forecasted_sales</th>\n",
              "      <th>smape_value</th>\n",
              "    </tr>\n",
              "    <tr>\n",
              "      <th>product_id</th>\n",
              "      <th>location</th>\n",
              "      <th></th>\n",
              "      <th></th>\n",
              "      <th></th>\n",
              "    </tr>\n",
              "  </thead>\n",
              "  <tbody>\n",
              "    <tr>\n",
              "      <th>product_0</th>\n",
              "      <th>0</th>\n",
              "      <td>296348</td>\n",
              "      <td>296348.0</td>\n",
              "      <td>1.133173e-17</td>\n",
              "    </tr>\n",
              "    <tr>\n",
              "      <th>product_2</th>\n",
              "      <th>5</th>\n",
              "      <td>135252</td>\n",
              "      <td>135252.0</td>\n",
              "      <td>1.655248e-17</td>\n",
              "    </tr>\n",
              "    <tr>\n",
              "      <th>product_0</th>\n",
              "      <th>5</th>\n",
              "      <td>136344</td>\n",
              "      <td>136344.0</td>\n",
              "      <td>2.873484e-17</td>\n",
              "    </tr>\n",
              "    <tr>\n",
              "      <th>product_3</th>\n",
              "      <th>1</th>\n",
              "      <td>497068</td>\n",
              "      <td>497068.0</td>\n",
              "      <td>3.490541e-17</td>\n",
              "    </tr>\n",
              "    <tr>\n",
              "      <th>product_1</th>\n",
              "      <th>3</th>\n",
              "      <td>322764</td>\n",
              "      <td>322764.0</td>\n",
              "      <td>3.641506e-17</td>\n",
              "    </tr>\n",
              "  </tbody>\n",
              "</table>\n",
              "</div>"
            ],
            "text/plain": [
              "                     sales_units_x  forecasted_sales   smape_value\n",
              "product_id location                                               \n",
              "product_0  0         296348         296348.0          1.133173e-17\n",
              "product_2  5         135252         135252.0          1.655248e-17\n",
              "product_0  5         136344         136344.0          2.873484e-17\n",
              "product_3  1         497068         497068.0          3.490541e-17\n",
              "product_1  3         322764         322764.0          3.641506e-17"
            ]
          },
          "metadata": {
            "tags": []
          },
          "execution_count": 101
        }
      ]
    },
    {
      "cell_type": "markdown",
      "metadata": {
        "id": "K2tIm8mTRuuy"
      },
      "source": [
        "## Seasonal Profile Data 2: sp_prod_clim"
      ]
    },
    {
      "cell_type": "code",
      "metadata": {
        "colab": {
          "base_uri": "https://localhost:8080/",
          "height": 224
        },
        "id": "Tho70LGkRtu-",
        "outputId": "45444633-283e-42d4-eeee-3a41484ff957"
      },
      "source": [
        "#4) Merge\n",
        "\n",
        "merged_profile2 = df_validation.merge(sp_prod_clim, how='inner', left_on=['product_id', 'climate','location','week'], right_on=['product_id','climate','location','week'])\n",
        "merged_profile2.head()"
      ],
      "execution_count": 116,
      "outputs": [
        {
          "output_type": "execute_result",
          "data": {
            "text/html": [
              "<div>\n",
              "<style scoped>\n",
              "    .dataframe tbody tr th:only-of-type {\n",
              "        vertical-align: middle;\n",
              "    }\n",
              "\n",
              "    .dataframe tbody tr th {\n",
              "        vertical-align: top;\n",
              "    }\n",
              "\n",
              "    .dataframe thead th {\n",
              "        text-align: right;\n",
              "    }\n",
              "</style>\n",
              "<table border=\"1\" class=\"dataframe\">\n",
              "  <thead>\n",
              "    <tr style=\"text-align: right;\">\n",
              "      <th></th>\n",
              "      <th>product_id</th>\n",
              "      <th>class_x</th>\n",
              "      <th>location</th>\n",
              "      <th>climate</th>\n",
              "      <th>week</th>\n",
              "      <th>sales_units_x</th>\n",
              "      <th>sales_units_y</th>\n",
              "      <th>sales_units</th>\n",
              "      <th>seasonal_profile_id</th>\n",
              "      <th>class_y</th>\n",
              "      <th>seasonality_value</th>\n",
              "    </tr>\n",
              "  </thead>\n",
              "  <tbody>\n",
              "    <tr>\n",
              "      <th>0</th>\n",
              "      <td>product_0</td>\n",
              "      <td>1</td>\n",
              "      <td>2</td>\n",
              "      <td>WARM</td>\n",
              "      <td>wk_01</td>\n",
              "      <td>19</td>\n",
              "      <td>30.0</td>\n",
              "      <td>30.0</td>\n",
              "      <td>ProdClim2</td>\n",
              "      <td>1</td>\n",
              "      <td>1.015197</td>\n",
              "    </tr>\n",
              "    <tr>\n",
              "      <th>1</th>\n",
              "      <td>product_0</td>\n",
              "      <td>1</td>\n",
              "      <td>2</td>\n",
              "      <td>WARM</td>\n",
              "      <td>wk_02</td>\n",
              "      <td>19</td>\n",
              "      <td>30.0</td>\n",
              "      <td>30.0</td>\n",
              "      <td>ProdClim2</td>\n",
              "      <td>1</td>\n",
              "      <td>0.869199</td>\n",
              "    </tr>\n",
              "    <tr>\n",
              "      <th>2</th>\n",
              "      <td>product_0</td>\n",
              "      <td>1</td>\n",
              "      <td>2</td>\n",
              "      <td>WARM</td>\n",
              "      <td>wk_03</td>\n",
              "      <td>31</td>\n",
              "      <td>30.0</td>\n",
              "      <td>30.0</td>\n",
              "      <td>ProdClim2</td>\n",
              "      <td>1</td>\n",
              "      <td>0.862408</td>\n",
              "    </tr>\n",
              "    <tr>\n",
              "      <th>3</th>\n",
              "      <td>product_0</td>\n",
              "      <td>1</td>\n",
              "      <td>2</td>\n",
              "      <td>WARM</td>\n",
              "      <td>wk_04</td>\n",
              "      <td>36</td>\n",
              "      <td>30.0</td>\n",
              "      <td>30.0</td>\n",
              "      <td>ProdClim2</td>\n",
              "      <td>1</td>\n",
              "      <td>0.892966</td>\n",
              "    </tr>\n",
              "    <tr>\n",
              "      <th>4</th>\n",
              "      <td>product_0</td>\n",
              "      <td>1</td>\n",
              "      <td>2</td>\n",
              "      <td>WARM</td>\n",
              "      <td>wk_05</td>\n",
              "      <td>32</td>\n",
              "      <td>30.0</td>\n",
              "      <td>30.0</td>\n",
              "      <td>ProdClim2</td>\n",
              "      <td>1</td>\n",
              "      <td>0.563621</td>\n",
              "    </tr>\n",
              "  </tbody>\n",
              "</table>\n",
              "</div>"
            ],
            "text/plain": [
              "  product_id  class_x  location climate   week  sales_units_x  sales_units_y  \\\n",
              "0  product_0  1        2         WARM    wk_01  19             30.0            \n",
              "1  product_0  1        2         WARM    wk_02  19             30.0            \n",
              "2  product_0  1        2         WARM    wk_03  31             30.0            \n",
              "3  product_0  1        2         WARM    wk_04  36             30.0            \n",
              "4  product_0  1        2         WARM    wk_05  32             30.0            \n",
              "\n",
              "   sales_units seasonal_profile_id  class_y  seasonality_value  \n",
              "0  30.0         ProdClim2           1        1.015197           \n",
              "1  30.0         ProdClim2           1        0.869199           \n",
              "2  30.0         ProdClim2           1        0.862408           \n",
              "3  30.0         ProdClim2           1        0.892966           \n",
              "4  30.0         ProdClim2           1        0.563621           "
            ]
          },
          "metadata": {
            "tags": []
          },
          "execution_count": 116
        }
      ]
    },
    {
      "cell_type": "code",
      "metadata": {
        "id": "alKVcbbmSjmw"
      },
      "source": [
        "#5) Calculate demand forecast values\n",
        "\n",
        "merged_profile2['forecasted_sales'] = merged_profile2['sales_units'] * merged_profile2['seasonality_value']"
      ],
      "execution_count": 120,
      "outputs": []
    },
    {
      "cell_type": "code",
      "metadata": {
        "colab": {
          "base_uri": "https://localhost:8080/",
          "height": 224
        },
        "id": "P3kOaT8vSo9U",
        "outputId": "2fc050ce-c07e-405d-b936-69efa2f1f597"
      },
      "source": [
        "#6) Values for every week\n",
        "\n",
        "merged_profile2.head()"
      ],
      "execution_count": 121,
      "outputs": [
        {
          "output_type": "execute_result",
          "data": {
            "text/html": [
              "<div>\n",
              "<style scoped>\n",
              "    .dataframe tbody tr th:only-of-type {\n",
              "        vertical-align: middle;\n",
              "    }\n",
              "\n",
              "    .dataframe tbody tr th {\n",
              "        vertical-align: top;\n",
              "    }\n",
              "\n",
              "    .dataframe thead th {\n",
              "        text-align: right;\n",
              "    }\n",
              "</style>\n",
              "<table border=\"1\" class=\"dataframe\">\n",
              "  <thead>\n",
              "    <tr style=\"text-align: right;\">\n",
              "      <th></th>\n",
              "      <th>product_id</th>\n",
              "      <th>class_x</th>\n",
              "      <th>location</th>\n",
              "      <th>climate</th>\n",
              "      <th>week</th>\n",
              "      <th>sales_units_x</th>\n",
              "      <th>sales_units_y</th>\n",
              "      <th>sales_units</th>\n",
              "      <th>seasonal_profile_id</th>\n",
              "      <th>class_y</th>\n",
              "      <th>seasonality_value</th>\n",
              "      <th>forecasted_sales</th>\n",
              "    </tr>\n",
              "  </thead>\n",
              "  <tbody>\n",
              "    <tr>\n",
              "      <th>0</th>\n",
              "      <td>product_0</td>\n",
              "      <td>1</td>\n",
              "      <td>2</td>\n",
              "      <td>WARM</td>\n",
              "      <td>wk_01</td>\n",
              "      <td>19</td>\n",
              "      <td>30.0</td>\n",
              "      <td>30.0</td>\n",
              "      <td>ProdClim2</td>\n",
              "      <td>1</td>\n",
              "      <td>1.015197</td>\n",
              "      <td>30.455918</td>\n",
              "    </tr>\n",
              "    <tr>\n",
              "      <th>1</th>\n",
              "      <td>product_0</td>\n",
              "      <td>1</td>\n",
              "      <td>2</td>\n",
              "      <td>WARM</td>\n",
              "      <td>wk_02</td>\n",
              "      <td>19</td>\n",
              "      <td>30.0</td>\n",
              "      <td>30.0</td>\n",
              "      <td>ProdClim2</td>\n",
              "      <td>1</td>\n",
              "      <td>0.869199</td>\n",
              "      <td>26.075970</td>\n",
              "    </tr>\n",
              "    <tr>\n",
              "      <th>2</th>\n",
              "      <td>product_0</td>\n",
              "      <td>1</td>\n",
              "      <td>2</td>\n",
              "      <td>WARM</td>\n",
              "      <td>wk_03</td>\n",
              "      <td>31</td>\n",
              "      <td>30.0</td>\n",
              "      <td>30.0</td>\n",
              "      <td>ProdClim2</td>\n",
              "      <td>1</td>\n",
              "      <td>0.862408</td>\n",
              "      <td>25.872252</td>\n",
              "    </tr>\n",
              "    <tr>\n",
              "      <th>3</th>\n",
              "      <td>product_0</td>\n",
              "      <td>1</td>\n",
              "      <td>2</td>\n",
              "      <td>WARM</td>\n",
              "      <td>wk_04</td>\n",
              "      <td>36</td>\n",
              "      <td>30.0</td>\n",
              "      <td>30.0</td>\n",
              "      <td>ProdClim2</td>\n",
              "      <td>1</td>\n",
              "      <td>0.892966</td>\n",
              "      <td>26.788985</td>\n",
              "    </tr>\n",
              "    <tr>\n",
              "      <th>4</th>\n",
              "      <td>product_0</td>\n",
              "      <td>1</td>\n",
              "      <td>2</td>\n",
              "      <td>WARM</td>\n",
              "      <td>wk_05</td>\n",
              "      <td>32</td>\n",
              "      <td>30.0</td>\n",
              "      <td>30.0</td>\n",
              "      <td>ProdClim2</td>\n",
              "      <td>1</td>\n",
              "      <td>0.563621</td>\n",
              "      <td>16.908637</td>\n",
              "    </tr>\n",
              "  </tbody>\n",
              "</table>\n",
              "</div>"
            ],
            "text/plain": [
              "  product_id  class_x  location climate   week  sales_units_x  sales_units_y  \\\n",
              "0  product_0  1        2         WARM    wk_01  19             30.0            \n",
              "1  product_0  1        2         WARM    wk_02  19             30.0            \n",
              "2  product_0  1        2         WARM    wk_03  31             30.0            \n",
              "3  product_0  1        2         WARM    wk_04  36             30.0            \n",
              "4  product_0  1        2         WARM    wk_05  32             30.0            \n",
              "\n",
              "   sales_units seasonal_profile_id  class_y  seasonality_value  \\\n",
              "0  30.0         ProdClim2           1        1.015197            \n",
              "1  30.0         ProdClim2           1        0.869199            \n",
              "2  30.0         ProdClim2           1        0.862408            \n",
              "3  30.0         ProdClim2           1        0.892966            \n",
              "4  30.0         ProdClim2           1        0.563621            \n",
              "\n",
              "   forecasted_sales  \n",
              "0  30.455918         \n",
              "1  26.075970         \n",
              "2  25.872252         \n",
              "3  26.788985         \n",
              "4  16.908637         "
            ]
          },
          "metadata": {
            "tags": []
          },
          "execution_count": 121
        }
      ]
    },
    {
      "cell_type": "code",
      "metadata": {
        "id": "iN8XYhuPTavP"
      },
      "source": [
        "#7) SMAPE Values\n",
        "smape_profile2 = merged_profile2.groupby(['product_id','location']).agg({'sales_units':'sum', 'forecasted_sales':'sum'})\n",
        "smape_profile2['smape_value'] = abs(smape_profile2['forecasted_sales'] - smape_profile2['sales_units'])/(abs(smape_profile2['sales_units']) + abs(smape_profile2['forecasted_sales']))\n",
        "smape_profile2['smape_value'] = smape_profile2['smape_value']/52\n",
        "smape_profile2 = smape_profile2.sort_values(['smape_value'], ascending=True)"
      ],
      "execution_count": 123,
      "outputs": []
    },
    {
      "cell_type": "code",
      "metadata": {
        "colab": {
          "base_uri": "https://localhost:8080/",
          "height": 235
        },
        "id": "S4mEjdicTjHU",
        "outputId": "29383bb9-012b-417b-fd18-7b1dcf44083b"
      },
      "source": [
        "smape_profile2.head()"
      ],
      "execution_count": 125,
      "outputs": [
        {
          "output_type": "execute_result",
          "data": {
            "text/html": [
              "<div>\n",
              "<style scoped>\n",
              "    .dataframe tbody tr th:only-of-type {\n",
              "        vertical-align: middle;\n",
              "    }\n",
              "\n",
              "    .dataframe tbody tr th {\n",
              "        vertical-align: top;\n",
              "    }\n",
              "\n",
              "    .dataframe thead th {\n",
              "        text-align: right;\n",
              "    }\n",
              "</style>\n",
              "<table border=\"1\" class=\"dataframe\">\n",
              "  <thead>\n",
              "    <tr style=\"text-align: right;\">\n",
              "      <th></th>\n",
              "      <th></th>\n",
              "      <th>sales_units</th>\n",
              "      <th>forecasted_sales</th>\n",
              "      <th>smape_value</th>\n",
              "    </tr>\n",
              "    <tr>\n",
              "      <th>product_id</th>\n",
              "      <th>location</th>\n",
              "      <th></th>\n",
              "      <th></th>\n",
              "      <th></th>\n",
              "    </tr>\n",
              "  </thead>\n",
              "  <tbody>\n",
              "    <tr>\n",
              "      <th>product_1</th>\n",
              "      <th>7</th>\n",
              "      <td>2933.0</td>\n",
              "      <td>2933.0</td>\n",
              "      <td>2.981637e-18</td>\n",
              "    </tr>\n",
              "    <tr>\n",
              "      <th>product_2</th>\n",
              "      <th>2</th>\n",
              "      <td>1498.0</td>\n",
              "      <td>1498.0</td>\n",
              "      <td>4.378409e-18</td>\n",
              "    </tr>\n",
              "    <tr>\n",
              "      <th rowspan=\"2\" valign=\"top\">product_0</th>\n",
              "      <th>7</th>\n",
              "      <td>2872.0</td>\n",
              "      <td>2872.0</td>\n",
              "      <td>1.849132e-13</td>\n",
              "    </tr>\n",
              "    <tr>\n",
              "      <th>2</th>\n",
              "      <td>1560.0</td>\n",
              "      <td>1560.0</td>\n",
              "      <td>1.849163e-13</td>\n",
              "    </tr>\n",
              "    <tr>\n",
              "      <th>product_3</th>\n",
              "      <th>7</th>\n",
              "      <td>2913.0</td>\n",
              "      <td>2913.0</td>\n",
              "      <td>3.698282e-13</td>\n",
              "    </tr>\n",
              "  </tbody>\n",
              "</table>\n",
              "</div>"
            ],
            "text/plain": [
              "                     sales_units  forecasted_sales   smape_value\n",
              "product_id location                                             \n",
              "product_1  7         2933.0       2933.0            2.981637e-18\n",
              "product_2  2         1498.0       1498.0            4.378409e-18\n",
              "product_0  7         2872.0       2872.0            1.849132e-13\n",
              "           2         1560.0       1560.0            1.849163e-13\n",
              "product_3  7         2913.0       2913.0            3.698282e-13"
            ]
          },
          "metadata": {
            "tags": []
          },
          "execution_count": 125
        }
      ]
    },
    {
      "cell_type": "markdown",
      "metadata": {
        "id": "7k0Ye4noU5qh"
      },
      "source": [
        "## Seasonal Profile Data 3: sp_class_clim"
      ]
    },
    {
      "cell_type": "code",
      "metadata": {
        "colab": {
          "base_uri": "https://localhost:8080/",
          "height": 204
        },
        "id": "JCWC_Q2XU1_I",
        "outputId": "10fd2464-293c-4177-819a-f02d3a923e8b"
      },
      "source": [
        "#4) Merge\n",
        "\n",
        "merged_profile3 = df_validation.merge(sp_class_clim, how='inner', left_on=['climate','location','week','class'], right_on=['climate','location','week','class'])\n",
        "merged_profile3.head()"
      ],
      "execution_count": 128,
      "outputs": [
        {
          "output_type": "execute_result",
          "data": {
            "text/html": [
              "<div>\n",
              "<style scoped>\n",
              "    .dataframe tbody tr th:only-of-type {\n",
              "        vertical-align: middle;\n",
              "    }\n",
              "\n",
              "    .dataframe tbody tr th {\n",
              "        vertical-align: top;\n",
              "    }\n",
              "\n",
              "    .dataframe thead th {\n",
              "        text-align: right;\n",
              "    }\n",
              "</style>\n",
              "<table border=\"1\" class=\"dataframe\">\n",
              "  <thead>\n",
              "    <tr style=\"text-align: right;\">\n",
              "      <th></th>\n",
              "      <th>product_id</th>\n",
              "      <th>class</th>\n",
              "      <th>location</th>\n",
              "      <th>climate</th>\n",
              "      <th>week</th>\n",
              "      <th>sales_units_x</th>\n",
              "      <th>sales_units_y</th>\n",
              "      <th>sales_units</th>\n",
              "      <th>seasonal_profile_id</th>\n",
              "      <th>seasonality_value</th>\n",
              "    </tr>\n",
              "  </thead>\n",
              "  <tbody>\n",
              "    <tr>\n",
              "      <th>0</th>\n",
              "      <td>product_0</td>\n",
              "      <td>1</td>\n",
              "      <td>2</td>\n",
              "      <td>WARM</td>\n",
              "      <td>wk_01</td>\n",
              "      <td>19</td>\n",
              "      <td>30.000000</td>\n",
              "      <td>30.000000</td>\n",
              "      <td>ClassClim2</td>\n",
              "      <td>1.036028</td>\n",
              "    </tr>\n",
              "    <tr>\n",
              "      <th>1</th>\n",
              "      <td>product_1</td>\n",
              "      <td>1</td>\n",
              "      <td>2</td>\n",
              "      <td>WARM</td>\n",
              "      <td>wk_01</td>\n",
              "      <td>52</td>\n",
              "      <td>29.884615</td>\n",
              "      <td>29.884615</td>\n",
              "      <td>ClassClim2</td>\n",
              "      <td>1.036028</td>\n",
              "    </tr>\n",
              "    <tr>\n",
              "      <th>2</th>\n",
              "      <td>product_0</td>\n",
              "      <td>1</td>\n",
              "      <td>2</td>\n",
              "      <td>WARM</td>\n",
              "      <td>wk_02</td>\n",
              "      <td>19</td>\n",
              "      <td>30.000000</td>\n",
              "      <td>30.000000</td>\n",
              "      <td>ClassClim2</td>\n",
              "      <td>0.975185</td>\n",
              "    </tr>\n",
              "    <tr>\n",
              "      <th>3</th>\n",
              "      <td>product_1</td>\n",
              "      <td>1</td>\n",
              "      <td>2</td>\n",
              "      <td>WARM</td>\n",
              "      <td>wk_02</td>\n",
              "      <td>34</td>\n",
              "      <td>29.884615</td>\n",
              "      <td>29.884615</td>\n",
              "      <td>ClassClim2</td>\n",
              "      <td>0.975185</td>\n",
              "    </tr>\n",
              "    <tr>\n",
              "      <th>4</th>\n",
              "      <td>product_0</td>\n",
              "      <td>1</td>\n",
              "      <td>2</td>\n",
              "      <td>WARM</td>\n",
              "      <td>wk_03</td>\n",
              "      <td>31</td>\n",
              "      <td>30.000000</td>\n",
              "      <td>30.000000</td>\n",
              "      <td>ClassClim2</td>\n",
              "      <td>0.856033</td>\n",
              "    </tr>\n",
              "  </tbody>\n",
              "</table>\n",
              "</div>"
            ],
            "text/plain": [
              "  product_id  class  location climate   week  sales_units_x  sales_units_y  \\\n",
              "0  product_0  1      2         WARM    wk_01  19             30.000000       \n",
              "1  product_1  1      2         WARM    wk_01  52             29.884615       \n",
              "2  product_0  1      2         WARM    wk_02  19             30.000000       \n",
              "3  product_1  1      2         WARM    wk_02  34             29.884615       \n",
              "4  product_0  1      2         WARM    wk_03  31             30.000000       \n",
              "\n",
              "   sales_units seasonal_profile_id  seasonality_value  \n",
              "0  30.000000    ClassClim2          1.036028           \n",
              "1  29.884615    ClassClim2          1.036028           \n",
              "2  30.000000    ClassClim2          0.975185           \n",
              "3  29.884615    ClassClim2          0.975185           \n",
              "4  30.000000    ClassClim2          0.856033           "
            ]
          },
          "metadata": {
            "tags": []
          },
          "execution_count": 128
        }
      ]
    },
    {
      "cell_type": "code",
      "metadata": {
        "id": "6ie9GZBPVEzW"
      },
      "source": [
        "#5) Calculate demand forecast values\n",
        "\n",
        "merged_profile3['forecasted_sales'] = merged_profile3['sales_units_x'] * merged_profile3['seasonality_value']"
      ],
      "execution_count": 129,
      "outputs": []
    },
    {
      "cell_type": "code",
      "metadata": {
        "colab": {
          "base_uri": "https://localhost:8080/",
          "height": 224
        },
        "id": "IrtBDxJgVK40",
        "outputId": "583da820-b00e-4b33-b9fb-a65d2fe99e33"
      },
      "source": [
        "#6) Values for every week\n",
        "\n",
        "merged_profile3.head()"
      ],
      "execution_count": 130,
      "outputs": [
        {
          "output_type": "execute_result",
          "data": {
            "text/html": [
              "<div>\n",
              "<style scoped>\n",
              "    .dataframe tbody tr th:only-of-type {\n",
              "        vertical-align: middle;\n",
              "    }\n",
              "\n",
              "    .dataframe tbody tr th {\n",
              "        vertical-align: top;\n",
              "    }\n",
              "\n",
              "    .dataframe thead th {\n",
              "        text-align: right;\n",
              "    }\n",
              "</style>\n",
              "<table border=\"1\" class=\"dataframe\">\n",
              "  <thead>\n",
              "    <tr style=\"text-align: right;\">\n",
              "      <th></th>\n",
              "      <th>product_id</th>\n",
              "      <th>class</th>\n",
              "      <th>location</th>\n",
              "      <th>climate</th>\n",
              "      <th>week</th>\n",
              "      <th>sales_units_x</th>\n",
              "      <th>sales_units_y</th>\n",
              "      <th>sales_units</th>\n",
              "      <th>seasonal_profile_id</th>\n",
              "      <th>seasonality_value</th>\n",
              "      <th>forecasted_sales</th>\n",
              "    </tr>\n",
              "  </thead>\n",
              "  <tbody>\n",
              "    <tr>\n",
              "      <th>0</th>\n",
              "      <td>product_0</td>\n",
              "      <td>1</td>\n",
              "      <td>2</td>\n",
              "      <td>WARM</td>\n",
              "      <td>wk_01</td>\n",
              "      <td>19</td>\n",
              "      <td>30.000000</td>\n",
              "      <td>30.000000</td>\n",
              "      <td>ClassClim2</td>\n",
              "      <td>1.036028</td>\n",
              "      <td>19.684537</td>\n",
              "    </tr>\n",
              "    <tr>\n",
              "      <th>1</th>\n",
              "      <td>product_1</td>\n",
              "      <td>1</td>\n",
              "      <td>2</td>\n",
              "      <td>WARM</td>\n",
              "      <td>wk_01</td>\n",
              "      <td>52</td>\n",
              "      <td>29.884615</td>\n",
              "      <td>29.884615</td>\n",
              "      <td>ClassClim2</td>\n",
              "      <td>1.036028</td>\n",
              "      <td>53.873470</td>\n",
              "    </tr>\n",
              "    <tr>\n",
              "      <th>2</th>\n",
              "      <td>product_0</td>\n",
              "      <td>1</td>\n",
              "      <td>2</td>\n",
              "      <td>WARM</td>\n",
              "      <td>wk_02</td>\n",
              "      <td>19</td>\n",
              "      <td>30.000000</td>\n",
              "      <td>30.000000</td>\n",
              "      <td>ClassClim2</td>\n",
              "      <td>0.975185</td>\n",
              "      <td>18.528512</td>\n",
              "    </tr>\n",
              "    <tr>\n",
              "      <th>3</th>\n",
              "      <td>product_1</td>\n",
              "      <td>1</td>\n",
              "      <td>2</td>\n",
              "      <td>WARM</td>\n",
              "      <td>wk_02</td>\n",
              "      <td>34</td>\n",
              "      <td>29.884615</td>\n",
              "      <td>29.884615</td>\n",
              "      <td>ClassClim2</td>\n",
              "      <td>0.975185</td>\n",
              "      <td>33.156285</td>\n",
              "    </tr>\n",
              "    <tr>\n",
              "      <th>4</th>\n",
              "      <td>product_0</td>\n",
              "      <td>1</td>\n",
              "      <td>2</td>\n",
              "      <td>WARM</td>\n",
              "      <td>wk_03</td>\n",
              "      <td>31</td>\n",
              "      <td>30.000000</td>\n",
              "      <td>30.000000</td>\n",
              "      <td>ClassClim2</td>\n",
              "      <td>0.856033</td>\n",
              "      <td>26.537028</td>\n",
              "    </tr>\n",
              "  </tbody>\n",
              "</table>\n",
              "</div>"
            ],
            "text/plain": [
              "  product_id  class  location climate   week  sales_units_x  sales_units_y  \\\n",
              "0  product_0  1      2         WARM    wk_01  19             30.000000       \n",
              "1  product_1  1      2         WARM    wk_01  52             29.884615       \n",
              "2  product_0  1      2         WARM    wk_02  19             30.000000       \n",
              "3  product_1  1      2         WARM    wk_02  34             29.884615       \n",
              "4  product_0  1      2         WARM    wk_03  31             30.000000       \n",
              "\n",
              "   sales_units seasonal_profile_id  seasonality_value  forecasted_sales  \n",
              "0  30.000000    ClassClim2          1.036028           19.684537         \n",
              "1  29.884615    ClassClim2          1.036028           53.873470         \n",
              "2  30.000000    ClassClim2          0.975185           18.528512         \n",
              "3  29.884615    ClassClim2          0.975185           33.156285         \n",
              "4  30.000000    ClassClim2          0.856033           26.537028         "
            ]
          },
          "metadata": {
            "tags": []
          },
          "execution_count": 130
        }
      ]
    },
    {
      "cell_type": "code",
      "metadata": {
        "id": "EOr8aoukVK8Z"
      },
      "source": [
        "#7) SMAPE Values\n",
        "smape_profile3 = merged_profile3.groupby(['product_id','location']).agg({'sales_units_x':'sum', 'forecasted_sales':'sum'})\n",
        "smape_profile3['smape_value'] = abs(smape_profile3['forecasted_sales'] - smape_profile3['sales_units_x'])/(abs(smape_profile3['sales_units_x']) + abs(smape_profile3['forecasted_sales']))\n",
        "smape_profile3['smape_value'] = smape_profile3['smape_value']/52\n",
        "smape_profile3 = smape_profile3.sort_values(['smape_value'], ascending=True)"
      ],
      "execution_count": 131,
      "outputs": []
    },
    {
      "cell_type": "code",
      "metadata": {
        "colab": {
          "base_uri": "https://localhost:8080/",
          "height": 235
        },
        "id": "3EO751_1VLIp",
        "outputId": "1d83ef2d-2246-4278-9048-ed6e72584c2f"
      },
      "source": [
        "smape_profile3.head()"
      ],
      "execution_count": 132,
      "outputs": [
        {
          "output_type": "execute_result",
          "data": {
            "text/html": [
              "<div>\n",
              "<style scoped>\n",
              "    .dataframe tbody tr th:only-of-type {\n",
              "        vertical-align: middle;\n",
              "    }\n",
              "\n",
              "    .dataframe tbody tr th {\n",
              "        vertical-align: top;\n",
              "    }\n",
              "\n",
              "    .dataframe thead th {\n",
              "        text-align: right;\n",
              "    }\n",
              "</style>\n",
              "<table border=\"1\" class=\"dataframe\">\n",
              "  <thead>\n",
              "    <tr style=\"text-align: right;\">\n",
              "      <th></th>\n",
              "      <th></th>\n",
              "      <th>sales_units_x</th>\n",
              "      <th>forecasted_sales</th>\n",
              "      <th>smape_value</th>\n",
              "    </tr>\n",
              "    <tr>\n",
              "      <th>product_id</th>\n",
              "      <th>location</th>\n",
              "      <th></th>\n",
              "      <th></th>\n",
              "      <th></th>\n",
              "    </tr>\n",
              "  </thead>\n",
              "  <tbody>\n",
              "    <tr>\n",
              "      <th>product_0</th>\n",
              "      <th>2</th>\n",
              "      <td>1560</td>\n",
              "      <td>1654.240546</td>\n",
              "      <td>0.000564</td>\n",
              "    </tr>\n",
              "    <tr>\n",
              "      <th>product_1</th>\n",
              "      <th>2</th>\n",
              "      <td>1554</td>\n",
              "      <td>1651.979199</td>\n",
              "      <td>0.000588</td>\n",
              "    </tr>\n",
              "    <tr>\n",
              "      <th>product_2</th>\n",
              "      <th>2</th>\n",
              "      <td>1498</td>\n",
              "      <td>1609.301445</td>\n",
              "      <td>0.000689</td>\n",
              "    </tr>\n",
              "    <tr>\n",
              "      <th>product_3</th>\n",
              "      <th>2</th>\n",
              "      <td>1587</td>\n",
              "      <td>1729.050309</td>\n",
              "      <td>0.000824</td>\n",
              "    </tr>\n",
              "    <tr>\n",
              "      <th>product_0</th>\n",
              "      <th>7</th>\n",
              "      <td>2872</td>\n",
              "      <td>4068.035378</td>\n",
              "      <td>0.003314</td>\n",
              "    </tr>\n",
              "  </tbody>\n",
              "</table>\n",
              "</div>"
            ],
            "text/plain": [
              "                     sales_units_x  forecasted_sales  smape_value\n",
              "product_id location                                              \n",
              "product_0  2         1560           1654.240546       0.000564   \n",
              "product_1  2         1554           1651.979199       0.000588   \n",
              "product_2  2         1498           1609.301445       0.000689   \n",
              "product_3  2         1587           1729.050309       0.000824   \n",
              "product_0  7         2872           4068.035378       0.003314   "
            ]
          },
          "metadata": {
            "tags": []
          },
          "execution_count": 132
        }
      ]
    },
    {
      "cell_type": "markdown",
      "metadata": {
        "id": "thUePWmgV_31"
      },
      "source": [
        "## 8) Summarize the values"
      ]
    },
    {
      "cell_type": "code",
      "metadata": {
        "colab": {
          "base_uri": "https://localhost:8080/",
          "height": 235
        },
        "id": "vfx06f9ZV-54",
        "outputId": "00bcbd0e-006d-4f49-c8e2-1319f756033f"
      },
      "source": [
        "smape_profile1.head()"
      ],
      "execution_count": 133,
      "outputs": [
        {
          "output_type": "execute_result",
          "data": {
            "text/html": [
              "<div>\n",
              "<style scoped>\n",
              "    .dataframe tbody tr th:only-of-type {\n",
              "        vertical-align: middle;\n",
              "    }\n",
              "\n",
              "    .dataframe tbody tr th {\n",
              "        vertical-align: top;\n",
              "    }\n",
              "\n",
              "    .dataframe thead th {\n",
              "        text-align: right;\n",
              "    }\n",
              "</style>\n",
              "<table border=\"1\" class=\"dataframe\">\n",
              "  <thead>\n",
              "    <tr style=\"text-align: right;\">\n",
              "      <th></th>\n",
              "      <th></th>\n",
              "      <th>sales_units_x</th>\n",
              "      <th>forecasted_sales</th>\n",
              "      <th>smape_value</th>\n",
              "    </tr>\n",
              "    <tr>\n",
              "      <th>product_id</th>\n",
              "      <th>location</th>\n",
              "      <th></th>\n",
              "      <th></th>\n",
              "      <th></th>\n",
              "    </tr>\n",
              "  </thead>\n",
              "  <tbody>\n",
              "    <tr>\n",
              "      <th>product_0</th>\n",
              "      <th>0</th>\n",
              "      <td>296348</td>\n",
              "      <td>296348.0</td>\n",
              "      <td>1.133173e-17</td>\n",
              "    </tr>\n",
              "    <tr>\n",
              "      <th>product_2</th>\n",
              "      <th>5</th>\n",
              "      <td>135252</td>\n",
              "      <td>135252.0</td>\n",
              "      <td>1.655248e-17</td>\n",
              "    </tr>\n",
              "    <tr>\n",
              "      <th>product_0</th>\n",
              "      <th>5</th>\n",
              "      <td>136344</td>\n",
              "      <td>136344.0</td>\n",
              "      <td>2.873484e-17</td>\n",
              "    </tr>\n",
              "    <tr>\n",
              "      <th>product_3</th>\n",
              "      <th>1</th>\n",
              "      <td>497068</td>\n",
              "      <td>497068.0</td>\n",
              "      <td>3.490541e-17</td>\n",
              "    </tr>\n",
              "    <tr>\n",
              "      <th>product_1</th>\n",
              "      <th>3</th>\n",
              "      <td>322764</td>\n",
              "      <td>322764.0</td>\n",
              "      <td>3.641506e-17</td>\n",
              "    </tr>\n",
              "  </tbody>\n",
              "</table>\n",
              "</div>"
            ],
            "text/plain": [
              "                     sales_units_x  forecasted_sales   smape_value\n",
              "product_id location                                               \n",
              "product_0  0         296348         296348.0          1.133173e-17\n",
              "product_2  5         135252         135252.0          1.655248e-17\n",
              "product_0  5         136344         136344.0          2.873484e-17\n",
              "product_3  1         497068         497068.0          3.490541e-17\n",
              "product_1  3         322764         322764.0          3.641506e-17"
            ]
          },
          "metadata": {
            "tags": []
          },
          "execution_count": 133
        }
      ]
    },
    {
      "cell_type": "code",
      "metadata": {
        "colab": {
          "base_uri": "https://localhost:8080/",
          "height": 235
        },
        "id": "MeqBwB6zWFnY",
        "outputId": "b6e22724-3c9a-4476-ca19-6f8fc6ceb309"
      },
      "source": [
        "smape_profile2.head()"
      ],
      "execution_count": 134,
      "outputs": [
        {
          "output_type": "execute_result",
          "data": {
            "text/html": [
              "<div>\n",
              "<style scoped>\n",
              "    .dataframe tbody tr th:only-of-type {\n",
              "        vertical-align: middle;\n",
              "    }\n",
              "\n",
              "    .dataframe tbody tr th {\n",
              "        vertical-align: top;\n",
              "    }\n",
              "\n",
              "    .dataframe thead th {\n",
              "        text-align: right;\n",
              "    }\n",
              "</style>\n",
              "<table border=\"1\" class=\"dataframe\">\n",
              "  <thead>\n",
              "    <tr style=\"text-align: right;\">\n",
              "      <th></th>\n",
              "      <th></th>\n",
              "      <th>sales_units</th>\n",
              "      <th>forecasted_sales</th>\n",
              "      <th>smape_value</th>\n",
              "    </tr>\n",
              "    <tr>\n",
              "      <th>product_id</th>\n",
              "      <th>location</th>\n",
              "      <th></th>\n",
              "      <th></th>\n",
              "      <th></th>\n",
              "    </tr>\n",
              "  </thead>\n",
              "  <tbody>\n",
              "    <tr>\n",
              "      <th>product_1</th>\n",
              "      <th>7</th>\n",
              "      <td>2933.0</td>\n",
              "      <td>2933.0</td>\n",
              "      <td>2.981637e-18</td>\n",
              "    </tr>\n",
              "    <tr>\n",
              "      <th>product_2</th>\n",
              "      <th>2</th>\n",
              "      <td>1498.0</td>\n",
              "      <td>1498.0</td>\n",
              "      <td>4.378409e-18</td>\n",
              "    </tr>\n",
              "    <tr>\n",
              "      <th rowspan=\"2\" valign=\"top\">product_0</th>\n",
              "      <th>7</th>\n",
              "      <td>2872.0</td>\n",
              "      <td>2872.0</td>\n",
              "      <td>1.849132e-13</td>\n",
              "    </tr>\n",
              "    <tr>\n",
              "      <th>2</th>\n",
              "      <td>1560.0</td>\n",
              "      <td>1560.0</td>\n",
              "      <td>1.849163e-13</td>\n",
              "    </tr>\n",
              "    <tr>\n",
              "      <th>product_3</th>\n",
              "      <th>7</th>\n",
              "      <td>2913.0</td>\n",
              "      <td>2913.0</td>\n",
              "      <td>3.698282e-13</td>\n",
              "    </tr>\n",
              "  </tbody>\n",
              "</table>\n",
              "</div>"
            ],
            "text/plain": [
              "                     sales_units  forecasted_sales   smape_value\n",
              "product_id location                                             \n",
              "product_1  7         2933.0       2933.0            2.981637e-18\n",
              "product_2  2         1498.0       1498.0            4.378409e-18\n",
              "product_0  7         2872.0       2872.0            1.849132e-13\n",
              "           2         1560.0       1560.0            1.849163e-13\n",
              "product_3  7         2913.0       2913.0            3.698282e-13"
            ]
          },
          "metadata": {
            "tags": []
          },
          "execution_count": 134
        }
      ]
    },
    {
      "cell_type": "code",
      "metadata": {
        "colab": {
          "base_uri": "https://localhost:8080/",
          "height": 235
        },
        "id": "3kx-gE4GWHaz",
        "outputId": "55e6036c-66bb-4961-e489-bca6b260c831"
      },
      "source": [
        "smape_profile3.head()"
      ],
      "execution_count": 136,
      "outputs": [
        {
          "output_type": "execute_result",
          "data": {
            "text/html": [
              "<div>\n",
              "<style scoped>\n",
              "    .dataframe tbody tr th:only-of-type {\n",
              "        vertical-align: middle;\n",
              "    }\n",
              "\n",
              "    .dataframe tbody tr th {\n",
              "        vertical-align: top;\n",
              "    }\n",
              "\n",
              "    .dataframe thead th {\n",
              "        text-align: right;\n",
              "    }\n",
              "</style>\n",
              "<table border=\"1\" class=\"dataframe\">\n",
              "  <thead>\n",
              "    <tr style=\"text-align: right;\">\n",
              "      <th></th>\n",
              "      <th></th>\n",
              "      <th>sales_units_x</th>\n",
              "      <th>forecasted_sales</th>\n",
              "      <th>smape_value</th>\n",
              "    </tr>\n",
              "    <tr>\n",
              "      <th>product_id</th>\n",
              "      <th>location</th>\n",
              "      <th></th>\n",
              "      <th></th>\n",
              "      <th></th>\n",
              "    </tr>\n",
              "  </thead>\n",
              "  <tbody>\n",
              "    <tr>\n",
              "      <th>product_0</th>\n",
              "      <th>2</th>\n",
              "      <td>1560</td>\n",
              "      <td>1654.240546</td>\n",
              "      <td>0.000564</td>\n",
              "    </tr>\n",
              "    <tr>\n",
              "      <th>product_1</th>\n",
              "      <th>2</th>\n",
              "      <td>1554</td>\n",
              "      <td>1651.979199</td>\n",
              "      <td>0.000588</td>\n",
              "    </tr>\n",
              "    <tr>\n",
              "      <th>product_2</th>\n",
              "      <th>2</th>\n",
              "      <td>1498</td>\n",
              "      <td>1609.301445</td>\n",
              "      <td>0.000689</td>\n",
              "    </tr>\n",
              "    <tr>\n",
              "      <th>product_3</th>\n",
              "      <th>2</th>\n",
              "      <td>1587</td>\n",
              "      <td>1729.050309</td>\n",
              "      <td>0.000824</td>\n",
              "    </tr>\n",
              "    <tr>\n",
              "      <th>product_0</th>\n",
              "      <th>7</th>\n",
              "      <td>2872</td>\n",
              "      <td>4068.035378</td>\n",
              "      <td>0.003314</td>\n",
              "    </tr>\n",
              "  </tbody>\n",
              "</table>\n",
              "</div>"
            ],
            "text/plain": [
              "                     sales_units_x  forecasted_sales  smape_value\n",
              "product_id location                                              \n",
              "product_0  2         1560           1654.240546       0.000564   \n",
              "product_1  2         1554           1651.979199       0.000588   \n",
              "product_2  2         1498           1609.301445       0.000689   \n",
              "product_3  2         1587           1729.050309       0.000824   \n",
              "product_0  7         2872           4068.035378       0.003314   "
            ]
          },
          "metadata": {
            "tags": []
          },
          "execution_count": 136
        }
      ]
    },
    {
      "cell_type": "markdown",
      "metadata": {
        "id": "UPKQGyHPWy5B"
      },
      "source": [
        "## Questions\n",
        "\n",
        "1)\tWhich seasonal profile strategy do you think resulted in the best seasonal profiles?\n",
        "  * My intuition is the seasonal profile strategy devised based on climate resulted in the seasonal profile which resulted in comparatively lower SMAPE error values \\\\\n",
        "\n",
        "2)\tWhat do you notice about the three strategies for calculating seasonal profiles?\n",
        "  * The strategies were devised based on the Key Performance Indiators(KPI) which adds significant impact to implementing the demand forecasting model\n",
        "\n"
      ]
    },
    {
      "cell_type": "code",
      "metadata": {
        "id": "pRa-hfoYXenE"
      },
      "source": [
        ""
      ],
      "execution_count": null,
      "outputs": []
    }
  ]
}